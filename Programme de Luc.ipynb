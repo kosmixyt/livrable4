{
 "cells": [
  {
   "cell_type": "markdown",
   "metadata": {},
   "source": [
    "# <center> Programme de Luc\n",
    "    "
   ]
  },
  {
   "cell_type": "code",
   "execution_count": 1,
   "metadata": {},
   "outputs": [],
   "source": [
    "import matplotlib.pyplot as plt\n",
    "import numpy as np\n",
    "%matplotlib inline"
   ]
  },
  {
   "cell_type": "markdown",
   "metadata": {},
   "source": [
    "## Démodulation d'amplitude (ASK):"
   ]
  },
  {
   "cell_type": "code",
   "execution_count": 2,
   "metadata": {},
   "outputs": [],
   "source": [
    "from numpy import genfromtxt\n",
    "\n",
    "#Lecture Fichier CSV\n",
    "ASK1= genfromtxt('Message.csv')\n",
    "\n",
    "N= len(ASK1)\n",
    "Ns= 220\n",
    "Fe = 44100\n",
    "Fp= 2000\n",
    "\n",
    "t= np.arange (0.0,N)/Fe;                        # temps pour un symbole\n",
    "\n",
    "Porteuse=np.sin(2*np.pi*Fp*t)                   # Porteuse\n",
    "Porduit= ASK1*Porteuse                          # Multiplier le signal modulé par le signal de la porteuse utilisée\n",
    "\n",
    "\n",
    "# Intégration dans le résultat Démod sur période de T =[0, Ns], Ns: taille du symbole envoyé par la méthode des Trapèzes (fonction numpy.trapz en Python).\n",
    "\n",
    "y= []           # Résultat de l'intégration    \n",
    "\n",
    "for i in range(0,N,Ns):\n",
    "    y.append (np.trapz(Porduit[i:i+Ns],t[i:i+Ns]))\n",
    " "
   ]
  },
  {
   "cell_type": "markdown",
   "metadata": {},
   "source": [
    "## Comparateur et décodage du signal binaire :"
   ]
  },
  {
   "cell_type": "code",
   "execution_count": 3,
   "metadata": {},
   "outputs": [],
   "source": [
    "# Si y > 0 donc on a reçu un 1 sinon un -1\n",
    "message_demodule = np.array(y) > 0   #renvoie True (si >0) ou False sinon\n",
    "\n",
    "# Decodage du signal démodulé\n",
    "\n",
    "message_recu_decode= []\n",
    "\n",
    "for ii in range (0,len(message_demodule)):\n",
    "    \n",
    "    if message_demodule [ii] == True:\n",
    "        \n",
    "        message_recu_decode.extend([int(1)]) \n",
    "    else:\n",
    "         message_recu_decode.extend([int(-1)]) \n",
    "            "
   ]
  },
  {
   "cell_type": "markdown",
   "metadata": {},
   "source": [
    "## Décodage NRZ du message reçu (NRZ  vers binaire):"
   ]
  },
  {
   "cell_type": "code",
   "execution_count": 4,
   "metadata": {},
   "outputs": [],
   "source": [
    "\n",
    "# conversion binaire en string (char)\n",
    "\n",
    "# On remet le message en suite 0 et 1 \n",
    "message_recu_bin =  [0 if i==-1 else 1 for i in message_recu_decode]  #\n"
   ]
  },
  {
   "cell_type": "markdown",
   "metadata": {},
   "source": [
    "## Conversion binaire vers ASCII:"
   ]
  },
  {
   "cell_type": "code",
   "execution_count": 5,
   "metadata": {},
   "outputs": [
    {
     "name": "stdout",
     "output_type": "stream",
     "text": [
      "Le message reçu est :  \u001a%\u0016)\u0015*\u0015\u001a\u0016)\u0016i\u0016V\u0019U\u001a)\u001a\u001a\u001a)\u001aY\u001a)\u0019U\u0019&\u0016\u0019\u0016%\u0016j\u0016\u0019\u0015&\u0016%\u0016j\u0016\u0019\u0019U\u0019%\u0015\u0019\u0015&\u0015\u0016\u0016i\u0015\u0016\u0016)\u0016V\u0015\u001a\u0015%\u0019U\u001ai\u0016V\u0016\u001a\u0016i\u0015)\u0015\u0019\u0016\u0019\u0015&\u0019U\u0016%\u0016U\u0016U\u0015&\u0016\u001a\u0016U\u0019U\u0015\u0019\u0015&\u0016\u0015\u0016\u0019\u0016V\u0015\u001a\n"
     ]
    }
   ],
   "source": [
    "\n",
    "\n",
    "# Ecrire la suite binaire du message dans une chaine de caractères (char) (résultat sous la forme par exmeple '001010111'\n",
    "bin_data = \"\"\n",
    "for elem in message_recu_bin:  \n",
    "    bin_data += str(elem)\n",
    "\n",
    "# print binary data \n",
    "#print(\"La suite binaire à décoder est:\", bin_data) \n",
    "\n",
    "\n",
    "\n",
    "# initialisation d'une chaîne vide pour stocker les données reçues\n",
    "data_reçu =' '\n",
    "\n",
    "\n",
    "# Fonction BinarytoDecimal() function (conversion bianire ==> décimal)\n",
    "def BinaryToDecimal(binary):  \n",
    "    binary1 = binary \n",
    "    decimal, i, n = 0, 0, 0 #initialisation des variables\n",
    "    \n",
    "    while(binary != 0): \n",
    "        dec = binary % 10\n",
    "        decimal = decimal + dec * pow(2, i) \n",
    "        binary = binary//10\n",
    "        i += 1\n",
    "    return (decimal)\n",
    "\n",
    "\n",
    "    # Découper les données binaire d'entrée et la convertir en décimal puis la convertir en chaîne par bloc de 8 \n",
    "for i in range(0, len(bin_data), 8): \n",
    "    # découper le bin_data de la plage d'index [0, 7] (car une caractère ASCII est codé sur 7 bits) ett le stocker sous forme d'entier dans temp_data\n",
    "    temp_data = int(bin_data[i+1:i+8])\n",
    "      \n",
    "       \n",
    "    # Passer (temp_data) dans la fonction BinarytoDecimal ()\n",
    "    # pour obtenir la valeur décimale correspondante de (temp_data)\n",
    "    decimal_data = BinaryToDecimal(temp_data)\n",
    "\n",
    "\n",
    "    # Décodage de la valeur décimale renvoyée par\n",
    "    # la Fonction BinarytoDecimal (), en utilisant chr ()\n",
    "    # fonction qui renvoie la chaîne correspondante\n",
    "    # caractère pour une valeur ASCII donnée et enregistrez-le\n",
    "    # dans data_recu\n",
    "    data_reçu = data_reçu + chr(decimal_data) \n",
    "\n",
    "# Affichage du result \n",
    "print(\"Le message reçu est :\", \n",
    "      data_reçu) \n"
   ]
  },
  {
   "cell_type": "code",
   "execution_count": null,
   "metadata": {},
   "outputs": [],
   "source": []
  }
 ],
 "metadata": {
  "kernelspec": {
   "display_name": "Python 3",
   "language": "python",
   "name": "python3"
  },
  "language_info": {
   "codemirror_mode": {
    "name": "ipython",
    "version": 3
   },
   "file_extension": ".py",
   "mimetype": "text/x-python",
   "name": "python",
   "nbconvert_exporter": "python",
   "pygments_lexer": "ipython3",
   "version": "3.7.3"
  }
 },
 "nbformat": 4,
 "nbformat_minor": 4
}
